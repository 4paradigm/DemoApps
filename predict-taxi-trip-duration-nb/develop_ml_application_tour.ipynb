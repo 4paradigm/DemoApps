{
 "cells": [
  {
   "cell_type": "code",
   "execution_count": 1,
   "id": "65540576",
   "metadata": {},
   "outputs": [
    {
     "name": "stdout",
     "output_type": "stream",
     "text": [
      "demo\t\t\t\t   fedb-2.2.0\t\t    zookeeper-3.4.14\r\n",
      "develop_ml_application_tour.ipynb  spark-3.0.0-bin-sparkfe\r\n"
     ]
    }
   ],
   "source": [
    "!ls"
   ]
  },
  {
   "cell_type": "code",
   "execution_count": 2,
   "id": "aab0647f",
   "metadata": {},
   "outputs": [
    {
     "name": "stdout",
     "output_type": "stream",
     "text": [
      "init the develoment env\r\n"
     ]
    }
   ],
   "source": [
    "!echo \"init the develoment env\""
   ]
  },
  {
   "cell_type": "code",
   "execution_count": 3,
   "id": "de5d5ff1",
   "metadata": {},
   "outputs": [
    {
     "name": "stdout",
     "output_type": "stream",
     "text": [
      "ZooKeeper JMX enabled by default\n",
      "Using config: /home/jovyan/work/zookeeper-3.4.14/bin/../conf/zoo.cfg\n",
      "Starting zookeeper ... STARTED\n",
      "Starting tablet ... STARTED\n",
      "Starting nameserver ... STARTED\n",
      "2021-05-07 09:51:41,281:178(0x7f33110d3a00):ZOO_INFO@log_env@753: Client environment:zookeeper.version=zookeeper C client 3.4.14\n",
      "2021-05-07 09:51:41,281:178(0x7f33110d3a00):ZOO_INFO@log_env@757: Client environment:host.name=m7-pce-dev01\n",
      "2021-05-07 09:51:41,281:178(0x7f33110d3a00):ZOO_INFO@log_env@764: Client environment:os.name=Linux\n",
      "2021-05-07 09:51:41,281:178(0x7f33110d3a00):ZOO_INFO@log_env@765: Client environment:os.arch=3.10.0-1127.18.2.el7.x86_64\n",
      "2021-05-07 09:51:41,281:178(0x7f33110d3a00):ZOO_INFO@log_env@766: Client environment:os.version=#1 SMP Sun Jul 26 15:27:06 UTC 2020\n",
      "2021-05-07 09:51:41,281:178(0x7f33110d3a00):ZOO_INFO@log_env@774: Client environment:user.name=(null)\n",
      "2021-05-07 09:51:41,281:178(0x7f33110d3a00):ZOO_INFO@log_env@782: Client environment:user.home=/home/jovyan\n",
      "2021-05-07 09:51:41,281:178(0x7f33110d3a00):ZOO_INFO@log_env@794: Client environment:user.dir=/home/jovyan/work/fedb-2.2.0\n",
      "2021-05-07 09:51:41,281:178(0x7f33110d3a00):ZOO_INFO@zookeeper_init@827: Initiating client connection, host=127.0.0.1:2181 sessionTimeout=2000 watcher=0x7112e0 sessionId=0 sessionPasswd=<null> context=0x5502000 flags=0\n",
      "2021-05-07 09:51:41,282:178(0x7f3310073700):ZOO_INFO@check_events@1764: initiated connection to server [127.0.0.1:2181]\n",
      "2021-05-07 09:51:41,299:178(0x7f3310073700):ZOO_INFO@check_events@1811: session establishment complete on server [127.0.0.1:2181], sessionId=0x10091d459400002, negotiated timeout=4000\n",
      "WARNING: Logging before InitGoogleLogging() is written to STDERR\n",
      "I0507 09:51:41.299698   182 zk_client.cc:586] zookeeper event with type -1, state 3, path \n",
      "I0507 09:51:41.299983   182 zk_client.cc:601] connect success\n",
      "I0507 09:51:41.300071   178 cluster_sdk.cc:84] init zk client with zk cluster 127.0.0.1:2181 , zk path /fedb,session timeout 2000 and session id 1\n",
      "I0507 09:51:41.300954   178 cluster_sdk.cc:254] no tables in db\n",
      "I0507 09:51:41.309943   178 client_manager.cc:473] add client. name 127.0.0.1:9527, endpoint \n",
      "I0507 09:51:41.310004   178 cluster_sdk.cc:102] start to watch table notify\n",
      "I0507 09:51:41.313985   178 cluster_sdk.cc:134] init ns client with endpoint 127.0.0.1:6527 done\n",
      "Empty set\n"
     ]
    }
   ],
   "source": [
    "!cd demo && sh init.sh"
   ]
  },
  {
   "cell_type": "code",
   "execution_count": 4,
   "id": "39f17d7a",
   "metadata": {},
   "outputs": [
    {
     "name": "stdout",
     "output_type": "stream",
     "text": [
      "import historical record to fedb\r\n"
     ]
    }
   ],
   "source": [
    "! echo \"import historical record to fedb\""
   ]
  },
  {
   "cell_type": "code",
   "execution_count": 5,
   "id": "4e7617e3",
   "metadata": {},
   "outputs": [
    {
     "name": "stdout",
     "output_type": "stream",
     "text": [
      "2021-05-07 09:51:43,292:194(0x7f0ce7614740):ZOO_INFO@log_env@753: Client environment:zookeeper.version=zookeeper C client 3.4.14\n",
      "2021-05-07 09:51:43,292:194(0x7f0ce7614740):ZOO_INFO@log_env@757: Client environment:host.name=m7-pce-dev01\n",
      "2021-05-07 09:51:43,292:194(0x7f0ce7614740):ZOO_INFO@log_env@764: Client environment:os.name=Linux\n",
      "2021-05-07 09:51:43,292:194(0x7f0ce7614740):ZOO_INFO@log_env@765: Client environment:os.arch=3.10.0-1127.18.2.el7.x86_64\n",
      "2021-05-07 09:51:43,292:194(0x7f0ce7614740):ZOO_INFO@log_env@766: Client environment:os.version=#1 SMP Sun Jul 26 15:27:06 UTC 2020\n",
      "2021-05-07 09:51:43,292:194(0x7f0ce7614740):ZOO_INFO@log_env@774: Client environment:user.name=(null)\n",
      "2021-05-07 09:51:43,292:194(0x7f0ce7614740):ZOO_INFO@log_env@782: Client environment:user.home=/home/jovyan\n",
      "2021-05-07 09:51:43,292:194(0x7f0ce7614740):ZOO_INFO@log_env@794: Client environment:user.dir=/home/jovyan/work/demo\n",
      "2021-05-07 09:51:43,292:194(0x7f0ce7614740):ZOO_INFO@zookeeper_init@827: Initiating client connection, host=127.0.0.1:2181 sessionTimeout=2000 watcher=0x7f0ce24bf070 sessionId=0 sessionPasswd=<null> context=0x7f0ce0655010 flags=0\n",
      "2021-05-07 09:51:43,293:194(0x7f0cdbfff700):ZOO_INFO@check_events@1764: initiated connection to server [127.0.0.1:2181]\n",
      "2021-05-07 09:51:43,307:194(0x7f0cdbfff700):ZOO_INFO@check_events@1811: session establishment complete on server [127.0.0.1:2181], sessionId=0x10091d459400003, negotiated timeout=4000\n",
      "WARNING: Logging before InitGoogleLogging() is written to STDERR\n",
      "I0507 09:51:43.307925   198 zk_client.cc:586] zookeeper event with type -1, state 3, path \n",
      "I0507 09:51:43.308126   198 zk_client.cc:601] connect success\n",
      "I0507 09:51:43.308200   194 cluster_sdk.cc:84] init zk client with zk cluster 127.0.0.1:2181 , zk path /fedb,session timeout 2000 and session id 1\n",
      "I0507 09:51:43.309020   194 cluster_sdk.cc:254] no tables in db\n",
      "I0507 09:51:43.316895   194 client_manager.cc:473] add client. name 127.0.0.1:9527, endpoint \n",
      "I0507 09:51:43.316943   194 cluster_sdk.cc:102] start to watch table notify\n",
      "W0507 09:51:43.318274   194 parser.cc:39] line: 1, column: 37: syntax error, unexpected VARCHAR\n",
      "W0507 09:51:43.318305   194 sql_compiler.cc:319] fail to parse sql SELECT CAST('test plain returns' AS VARCHAR(60)) AS anon_1 with error line: 1, column: 37: syntax error, unexpected VARCHAR\n",
      "W0507 09:51:43.318320   194 engine.cc:274] fail to compile sql SELECT CAST('test plain returns' AS VARCHAR(60)) AS anon_1 in db db_test with error line: 1, column: 37: syntax error, unexpected VARCHAR\n",
      "W0507 09:51:43.322055   194 tablet_client.cc:175] fail to query tablet\n",
      "W0507 09:51:43.322340   194 parser.cc:39] line: 1, column: 39: syntax error, unexpected VARCHAR\n",
      "W0507 09:51:43.322365   194 sql_compiler.cc:319] fail to parse sql SELECT CAST('test unicode returns' AS VARCHAR(60)) AS anon_1 with error line: 1, column: 39: syntax error, unexpected VARCHAR\n",
      "W0507 09:51:43.322376   194 engine.cc:274] fail to compile sql SELECT CAST('test unicode returns' AS VARCHAR(60)) AS anon_1 in db db_test with error line: 1, column: 39: syntax error, unexpected VARCHAR\n",
      "W0507 09:51:43.322886   194 tablet_client.cc:175] fail to query tablet\n",
      "I0507 09:51:43.325989   194 cluster_sdk.cc:134] init ns client with endpoint 127.0.0.1:6527 done\n",
      "I0507 09:51:43.398810   198 zk_client.cc:64] node watcher with event type 3, state 3\n",
      "2021-05-07 09:51:48,227:194(0x7f0ce7614740):ZOO_INFO@zookeeper_close@2564: Closing zookeeper sessionId=0x10091d459400003 to [127.0.0.1:2181]\n",
      "\n"
     ]
    }
   ],
   "source": [
    "! cd demo && python3 import.py"
   ]
  },
  {
   "cell_type": "code",
   "execution_count": 6,
   "id": "430686b1",
   "metadata": {},
   "outputs": [
    {
     "name": "stdout",
     "output_type": "stream",
     "text": [
      "train a model\r\n"
     ]
    }
   ],
   "source": [
    "! echo \"train a model\""
   ]
  },
  {
   "cell_type": "code",
   "execution_count": 7,
   "id": "c47c0a45",
   "metadata": {},
   "outputs": [
    {
     "name": "stdout",
     "output_type": "stream",
     "text": [
      "WARNING: An illegal reflective access operation has occurred\n",
      "WARNING: Illegal reflective access by org.apache.spark.unsafe.Platform (file:/home/jovyan/work/spark-3.0.0-bin-sparkfe/jars/spark-unsafe_2.12-3.0.0.jar) to constructor java.nio.DirectByteBuffer(long,int)\n",
      "WARNING: Please consider reporting this to the maintainers of org.apache.spark.unsafe.Platform\n",
      "WARNING: Use --illegal-access=warn to enable warnings of further illegal reflective access operations\n",
      "WARNING: All illegal access operations will be denied in a future release\n",
      "21/05/07 09:51:52 WARN NativeCodeLoader: Unable to load native-hadoop library for your platform... using builtin-java classes where applicable\n",
      "Using Spark's default log4j profile: org/apache/spark/log4j-defaults.properties\n",
      "Setting default log level to \"WARN\".\n",
      "To adjust logging level use sc.setLogLevel(newLevel). For SparkR, use setLogLevel(newLevel).\n",
      "WARNING: Logging before InitGoogleLogging() is written to STDERR\n",
      "I0507 09:52:00.636783   334 sql_compiler.cc:61] keep ir length: 21855\n",
      "    PROJECT(type=WindowAggregation)\n",
      "      +-WINDOW(partition_keys=(vendor_id), orders=(pickup_datetime) ASC, range=(pickup_datetime, -86400000, 0))\n",
      "      PROJECT(type=WindowAggregation, NEED_APPEND_INPUT)\n",
      "        +-WINDOW(partition_keys=(passenger_count), orders=(pickup_datetime) ASC, range=(pickup_datetime, -86400000, 0))\n",
      "I0507 09:52:01.599939   334 sql_compiler.cc:61] keep ir length: 21855\n",
      "        DATA_PROVIDER(table=t1)    PROJECT(type=WindowAggregation)\n",
      "      +-WINDOW(partition_keys=(vendor_id), orders=(pickup_datetime) ASC, range=(pickup_datetime, -86400000, 0))\n",
      "      PROJECT(type=WindowAggregation, NEED_APPEND_INPUT)\n",
      "        +-WINDOW(partition_keys=(passenger_count), orders=(pickup_datetime) ASC, range=(pickup_datetime, -86400000, 0))\n",
      "Starting training...                                                            \n",
      "[LightGBM] [Warning] Auto-choosing col-wise multi-threading, the overhead of testing was 0.002332 seconds.\n",
      "You can set `force_col_wise=true` to remove the overhead.\n",
      "[1]\tvalid_0's l1: 621.659\tvalid_0's l2: 1.17068e+07\n",
      "Training until validation scores don't improve for 5 rounds\n",
      "[2]\tvalid_0's l1: 621.1\tvalid_0's l2: 1.17068e+07\n",
      "[3]\tvalid_0's l1: 623.921\tvalid_0's l2: 1.17067e+07\n",
      "[4]\tvalid_0's l1: 623.805\tvalid_0's l2: 1.17077e+07\n",
      "[5]\tvalid_0's l1: 626.84\tvalid_0's l2: 1.17106e+07\n",
      "[6]\tvalid_0's l1: 626.653\tvalid_0's l2: 1.171e+07\n",
      "[7]\tvalid_0's l1: 627.424\tvalid_0's l2: 1.17115e+07\n",
      "Early stopping, best iteration is:\n",
      "[2]\tvalid_0's l1: 621.1\tvalid_0's l2: 1.17068e+07\n",
      "save model.txt done\n"
     ]
    }
   ],
   "source": [
    "! cd demo && sh train.sh"
   ]
  },
  {
   "cell_type": "code",
   "execution_count": 8,
   "id": "74def228",
   "metadata": {},
   "outputs": [
    {
     "name": "stdout",
     "output_type": "stream",
     "text": [
      "start predict server\r\n"
     ]
    }
   ],
   "source": [
    "! cd demo && sh start_predict_server.sh"
   ]
  },
  {
   "cell_type": "code",
   "execution_count": 9,
   "id": "849e21ce",
   "metadata": {},
   "outputs": [
    {
     "name": "stdout",
     "output_type": "stream",
     "text": [
      "----------------ins---------------\r\n",
      "[[ 2.       40.774097 40.774097 40.774097 40.774097 40.774097 40.774097\r\n",
      "  40.774097 40.774097  1.        1.      ]]\r\n",
      "---------------predict trip_duration -------------\r\n",
      "850.7426017991609 s\r\n"
     ]
    }
   ],
   "source": [
    "! cd demo && python3 predict.py"
   ]
  },
  {
   "cell_type": "code",
   "execution_count": null,
   "id": "7cddf9ea",
   "metadata": {},
   "outputs": [],
   "source": []
  }
 ],
 "metadata": {
  "kernelspec": {
   "display_name": "Python 3",
   "language": "python",
   "name": "python3"
  },
  "language_info": {
   "codemirror_mode": {
    "name": "ipython",
    "version": 3
   },
   "file_extension": ".py",
   "mimetype": "text/x-python",
   "name": "python",
   "nbconvert_exporter": "python",
   "pygments_lexer": "ipython3",
   "version": "3.9.2"
  }
 },
 "nbformat": 4,
 "nbformat_minor": 5
}
